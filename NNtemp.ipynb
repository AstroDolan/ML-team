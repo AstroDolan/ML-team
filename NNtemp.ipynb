{
 "cells": [
  {
   "cell_type": "code",
   "execution_count": null,
   "id": "6c78cf95",
   "metadata": {},
   "outputs": [],
   "source": [
    "import tensorflow as tf\n",
    "import keras.optimizers\n",
    "\n",
    "ep = 500\n",
    "pv = 0.2\n",
    "opt = keras.optimizers.Adam(learning_rate=0.001)\n",
    "\n",
    "inputs = Input(shape=(2,))\n",
    "\n",
    "hidden1 = Dense(90, activation='relu')(inputs)\n",
    "hidden2 = Dense(90, activation='relu')(hidden1)\n",
    "hidden3 = Dense(90, activation='relu')(hidden2)\n",
    "hidden4 = Dense(90, activation='relu')(hidden3)\n",
    "hidden5 = Dense(50, activation='relu')(hidden4)\n",
    "\n",
    "outputs = Dense(1, activation='linear')(hidden5)\n",
    "\n",
    "model = Model(inputs=inputs, outputs=outputs)\n",
    "model.compile(optimizer=opt, loss=custom_loss, metrics=['mse'])\n",
    "model.summary()\n",
    "\n",
    "\n",
    "#r_values es el target, pero necesito saber cual es el X\n",
    "#Corregit batch size, verbose, early stopping\n",
    "model.fit(algo, r_values, epochs=ep, validation_split=pv,)"
   ]
  }
 ],
 "metadata": {
  "language_info": {
   "name": "python"
  }
 },
 "nbformat": 4,
 "nbformat_minor": 5
}
