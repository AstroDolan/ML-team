{
 "cells": [
  {
   "cell_type": "code",
   "execution_count": 18,
   "id": "6d202438-7177-469b-ab3c-57ffe88ee27c",
   "metadata": {},
   "outputs": [],
   "source": [
    "import numpy as np\n",
    "import pandas as pd\n",
    "import matplotlib.pyplot as plt\n",
    "import os\n",
    "BASE = '/home/mchmb00e/Scripts/graphics/'\n",
    "\n",
    "sizes = [\"1kb\", \"2kb\", \"4kb\", \"8kb\", \"16kb\", \"32kb\"]\n",
    "partitions = [\"ntfs512\", \"ntfs1024\", \"ntfs2048\", \"ext4_1\", \"ext4_2\", \"ext4_4\"]"
   ]
  },
  {
   "cell_type": "markdown",
   "id": "39dc2510-91ca-4fc4-af81-95582e0c301b",
   "metadata": {},
   "source": [
    "## Preparación de datos"
   ]
  },
  {
   "cell_type": "code",
   "execution_count": 19,
   "id": "bb658ec0-77da-4317-ab8a-3bb4e98c05ea",
   "metadata": {},
   "outputs": [],
   "source": [
    "\n",
    "\n",
    "# Diccionario para guardar los DataFrames si se desea también acceder dinámicamente\n",
    "dfs = {}\n",
    "\n",
    "for partition in partitions:\n",
    "    times_list = []\n",
    "    sizes_list = []\n",
    "\n",
    "    for size in sizes:\n",
    "        path = os.path.join(BASE, f'write/write/{partition}_{size}.txt')\n",
    "        try:\n",
    "            times = np.loadtxt(path, dtype=float)\n",
    "        except OSError as e:\n",
    "            print(f\"No se pudo leer el archivo {path}: {e}\")\n",
    "            continue\n",
    "\n",
    "        times_list.append(times)\n",
    "        sizes_list.append(np.full(times.shape, size))\n",
    "\n",
    "    # Crear DataFrame para esta partición\n",
    "    if times_list:  # solo si hay datos cargados\n",
    "        times_array = np.concatenate(times_list)\n",
    "        sizes_array = np.concatenate(sizes_list)\n",
    "        df = pd.DataFrame({\n",
    "            \"time\": times_array,\n",
    "            \"size\": sizes_array\n",
    "        })\n",
    "\n",
    "        # Guardar en variable con nombre dinámico\n",
    "        var_name = f\"df_write_{partition}\"\n",
    "        globals()[var_name] = df"
   ]
  },
  {
   "cell_type": "code",
   "execution_count": 20,
   "id": "4d83de8c-eac6-47a3-8b81-def184d536be",
   "metadata": {},
   "outputs": [],
   "source": [
    "\n",
    "\n",
    "# Diccionario para guardar los DataFrames si se desea también acceder dinámicamente\n",
    "dfs = {}\n",
    "\n",
    "for partition in partitions:\n",
    "    times_list = []\n",
    "    sizes_list = []\n",
    "\n",
    "    for size in sizes:\n",
    "        path = os.path.join(BASE, f'read/read/{partition}_{size}.txt')\n",
    "        try:\n",
    "            times = np.loadtxt(path, dtype=float)\n",
    "        except OSError as e:\n",
    "            print(f\"No se pudo leer el archivo {path}: {e}\")\n",
    "            continue\n",
    "\n",
    "        times_list.append(times)\n",
    "        sizes_list.append(np.full(times.shape, size))\n",
    "\n",
    "    # Crear DataFrame para esta partición\n",
    "    if times_list:  # solo si hay datos cargados\n",
    "        times_array = np.concatenate(times_list)\n",
    "        sizes_array = np.concatenate(sizes_list)\n",
    "        df = pd.DataFrame({\n",
    "            \"time\": times_array,\n",
    "            \"size\": sizes_array\n",
    "        })\n",
    "\n",
    "        # Guardar en variable con nombre dinámico\n",
    "        var_name = f\"df_read_{partition}\"\n",
    "        globals()[var_name] = df"
   ]
  },
  {
   "cell_type": "code",
   "execution_count": 22,
   "id": "fb8f50d6-da11-41d5-aef0-7df7d88f062a",
   "metadata": {},
   "outputs": [],
   "source": [
    "total_write = {\n",
    "    \"ntfs512\": {\"1kb\": 435.724, \"2kb\": 419.034, \"4kb\": 417.945, \"8kb\": 437.113, \"16kb\": 446.777, \"32kb\": 429.163},\n",
    "    \"ntfs1024\": {\"1kb\": 454.036, \"2kb\": 424.108, \"4kb\": 430.874, \"8kb\": 448.757, \"16kb\": 461.137, \"32kb\": 440.412},\n",
    "    \"ntfs2048\": {\"1kb\": 431.339, \"2kb\": 423.678, \"4kb\": 434.652, \"8kb\": 450.025, \"16kb\": 458.124, \"32kb\": 441.211},\n",
    "    \"ext4_1\": {\"1kb\": 443.607, \"2kb\": 435.266, \"4kb\": 457.974, \"8kb\": 471.697, \"16kb\": 444.680, \"32kb\": 444.822},\n",
    "    \"ext4_2\": {\"1kb\": 429.097, \"2kb\": 422.414, \"4kb\": 434.310, \"8kb\": 437.146, \"16kb\": 419.820, \"32kb\": 427.081},\n",
    "    \"ext4_4\": {\"1kb\": 410.049, \"2kb\": 408.062, \"4kb\": 420.756, \"8kb\": 421.957, \"16kb\": 402.459, \"32kb\": 420.722},\n",
    "}\n",
    "\n",
    "total_read = {\n",
    "    \"ntfs512\": {\"1kb\": 330.520, \"2kb\": 337.449, \"4kb\": 340.670, \"8kb\": 335.801, \"16kb\": 335.342, \"32kb\": 340.636},\n",
    "    \"ntfs1024\": {\"1kb\": 352.733, \"2kb\": 339.832, \"4kb\": 336.505, \"8kb\": 337.602, \"16kb\": 349.199, \"32kb\": 343.898},\n",
    "    \"ntfs2048\": {\"1kb\": 335.188, \"2kb\": 342.480, \"4kb\": 334.442, \"8kb\": 337.913, \"16kb\": 352.732, \"32kb\": 342.904},\n",
    "    \"ext4_1\": {\"1kb\": 340.331, \"2kb\": 342.996, \"4kb\": 340.898, \"8kb\": 342.025, \"16kb\": 360.089, \"32kb\": 346.204},\n",
    "    \"ext4_2\": {\"1kb\": 342.286, \"2kb\": 342.020, \"4kb\": 339.882, \"8kb\": 375.470, \"16kb\": 356.959, \"32kb\": 346.188},\n",
    "    \"ext4_4\": {\"1kb\": 341.051, \"2kb\": 341.645, \"4kb\": 333.796, \"8kb\": 370.761, \"16kb\": 354.181, \"32kb\": 349.527},\n",
    "}\n"
   ]
  },
  {
   "cell_type": "code",
   "execution_count": null,
   "id": "6b54f392-cd28-4e4c-95dc-6da8483c4764",
   "metadata": {},
   "outputs": [],
   "source": []
  }
 ],
 "metadata": {
  "kernelspec": {
   "display_name": "Python 3 (ipykernel)",
   "language": "python",
   "name": "python3"
  },
  "language_info": {
   "codemirror_mode": {
    "name": "ipython",
    "version": 3
   },
   "file_extension": ".py",
   "mimetype": "text/x-python",
   "name": "python",
   "nbconvert_exporter": "python",
   "pygments_lexer": "ipython3",
   "version": "3.12.7"
  }
 },
 "nbformat": 4,
 "nbformat_minor": 5
}
